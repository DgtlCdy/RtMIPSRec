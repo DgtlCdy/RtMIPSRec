{
 "cells": [
  {
   "cell_type": "code",
   "execution_count": 1,
   "metadata": {},
   "outputs": [],
   "source": [
    "import os\n",
    "import gzip\n",
    "import subprocess\n",
    "import pandas as pd\n",
    "import numpy as np\n",
    "from datetime import datetime"
   ]
  },
  {
   "cell_type": "code",
   "execution_count": 2,
   "metadata": {},
   "outputs": [],
   "source": [
    "def parse(path):\n",
    "    g = gzip.open(path, 'rb')\n",
    "    for l in g:\n",
    "        yield eval(l)\n",
    "\n",
    "def get_df(path):\n",
    "    i = 0\n",
    "    df = {}\n",
    "    for d in parse(path):\n",
    "        df[i] = d\n",
    "        i += 1\n",
    "    return pd.DataFrame.from_dict(df, orient='index')"
   ]
  },
  {
   "cell_type": "code",
   "execution_count": 3,
   "metadata": {},
   "outputs": [],
   "source": [
    "DATASET = 'Beauty'\n",
    "# DATASET = 'Video_Games'\n",
    "\n",
    "RAW_PATH = os.path.join('./', DATASET)\n",
    "DATA_FILE = 'reviews_{}_5.json.gz'.format(DATASET)\n",
    "META_FILE = 'meta_{}.json.gz'.format(DATASET)\n",
    "\n",
    "RANDOM_SEED = 0\n",
    "NEG_ITEMS = 999"
   ]
  },
  {
   "cell_type": "markdown",
   "metadata": {},
   "source": [
    "# Load Data\n",
    "\n",
    "1. Load interaction data and item metadata\n",
    "2. Filter out unuseful items in metadata\n",
    "3. Calculate basic statistics"
   ]
  },
  {
   "cell_type": "code",
   "execution_count": null,
   "metadata": {},
   "outputs": [],
   "source": [
    "# download data if not exists\n",
    "\n",
    "if not os.path.exists(RAW_PATH):\n",
    "    subprocess.call('mkdir ' + RAW_PATH, shell=True)\n",
    "if not os.path.exists(os.path.join(RAW_PATH, DATA_FILE)):\n",
    "    print('Downloading interaction data into ' + RAW_PATH)\n",
    "    subprocess.call(\n",
    "        'cd {} && curl -O http://snap.stanford.edu/data/amazon/productGraph/categoryFiles/reviews_{}_5.json.gz'\n",
    "        .format(RAW_PATH, DATASET), shell=True)\n",
    "if not os.path.exists(os.path.join(RAW_PATH, META_FILE)):\n",
    "    print('Downloading item metadata into ' + RAW_PATH)\n",
    "    subprocess.call(\n",
    "        'cd {} && curl -O http://snap.stanford.edu/data/amazon/productGraph/categoryFiles/meta_{}.json.gz'\n",
    "        .format(RAW_PATH, DATASET), shell=True)"
   ]
  },
  {
   "cell_type": "code",
   "execution_count": null,
   "metadata": {},
   "outputs": [],
   "source": [
    "data_df = get_df(os.path.join(RAW_PATH, DATA_FILE))\n",
    "data_df.head()"
   ]
  },
  {
   "cell_type": "code",
   "execution_count": null,
   "metadata": {},
   "outputs": [],
   "source": [
    "meta_df = get_df(os.path.join(RAW_PATH, META_FILE))\n",
    "meta_df.head()"
   ]
  },
  {
   "cell_type": "code",
   "execution_count": 7,
   "metadata": {},
   "outputs": [],
   "source": [
    "# Only retain items that appear in interaction data\n",
    "\n",
    "useful_meta_df = meta_df[meta_df['asin'].isin(data_df['asin'])].reset_index(drop=True)\n",
    "all_items = set(useful_meta_df['asin'].values.tolist())\n",
    "\n",
    "def related_filter(related_dict):\n",
    "    out_dict = dict()\n",
    "    if related_dict is not np.nan:\n",
    "        for r in related_dict:\n",
    "            out_dict[r] = list(all_items & set(related_dict[r]))\n",
    "    return out_dict\n",
    "\n",
    "useful_meta_df['related'] = useful_meta_df['related'].apply(related_filter)"
   ]
  },
  {
   "cell_type": "markdown",
   "metadata": {},
   "source": [
    "### Statistics"
   ]
  },
  {
   "cell_type": "code",
   "execution_count": 8,
   "metadata": {},
   "outputs": [],
   "source": [
    "n_users = data_df['reviewerID'].value_counts().size\n",
    "n_items = data_df['asin'].value_counts().size\n",
    "n_clicks = len(data_df)\n",
    "min_time = data_df['unixReviewTime'].min()\n",
    "max_time = data_df['unixReviewTime'].max()"
   ]
  },
  {
   "cell_type": "code",
   "execution_count": null,
   "metadata": {},
   "outputs": [],
   "source": [
    "time_format = '%Y-%m-%d'\n",
    "\n",
    "print('# Users:', n_users)\n",
    "print('# Items:', n_items)\n",
    "print('# Interactions:', n_clicks)\n",
    "print('Time Span: {}/{}'.format(\n",
    "    datetime.utcfromtimestamp(min_time).strftime(time_format),\n",
    "    datetime.utcfromtimestamp(max_time).strftime(time_format))\n",
    ")"
   ]
  },
  {
   "cell_type": "markdown",
   "metadata": {},
   "source": [
    "# Build Dataset\n",
    "\n",
    "### Interaction data"
   ]
  },
  {
   "cell_type": "code",
   "execution_count": 10,
   "metadata": {},
   "outputs": [],
   "source": [
    "np.random.seed(RANDOM_SEED)"
   ]
  },
  {
   "cell_type": "code",
   "execution_count": null,
   "metadata": {},
   "outputs": [],
   "source": [
    "out_df = data_df.rename(columns={'asin': 'item_id', 'reviewerID': 'user_id', 'unixReviewTime': 'time'})\n",
    "out_df = out_df[['user_id', 'item_id', 'time']]\n",
    "out_df = out_df.drop_duplicates(['user_id', 'item_id', 'time'])\n",
    "out_df = out_df.sort_values(by=['time', 'user_id'], kind='mergesort').reset_index(drop=True)\n",
    "out_df.head()"
   ]
  },
  {
   "cell_type": "code",
   "execution_count": null,
   "metadata": {},
   "outputs": [],
   "source": [
    "# reindex (start from 1)\n",
    "\n",
    "uids = sorted(out_df['user_id'].unique())\n",
    "user2id = dict(zip(uids, range(1, len(uids) + 1)))\n",
    "iids = sorted(out_df['item_id'].unique())\n",
    "item2id = dict(zip(iids, range(1, len(iids) + 1)))\n",
    "\n",
    "out_df['user_id'] = out_df['user_id'].apply(lambda x: user2id[x])\n",
    "out_df['item_id'] = out_df['item_id'].apply(lambda x: item2id[x])\n",
    "out_df.head()"
   ]
  },
  {
   "cell_type": "code",
   "execution_count": 13,
   "metadata": {},
   "outputs": [],
   "source": [
    "# leave one out spliting\n",
    "\n",
    "clicked_item_set = dict()\n",
    "for user_id, seq_df in out_df.groupby('user_id'):\n",
    "    clicked_item_set[user_id] = set(seq_df['item_id'].values.tolist())\n",
    "    \n",
    "def generate_dev_test(data_df):\n",
    "    result_dfs = []\n",
    "    n_items = data_df['item_id'].value_counts().size\n",
    "    for idx in range(2):\n",
    "        result_df = data_df.groupby('user_id').tail(1).copy()\n",
    "        data_df = data_df.drop(result_df.index)\n",
    "        neg_items = np.random.randint(1, n_items + 1, (len(result_df), NEG_ITEMS))\n",
    "        for i, uid in enumerate(result_df['user_id'].values):\n",
    "            user_clicked = clicked_item_set[uid]\n",
    "            for j in range(len(neg_items[i])):\n",
    "                while neg_items[i][j] in user_clicked:\n",
    "                    neg_items[i][j] = np.random.randint(1, n_items + 1)\n",
    "        result_df['neg_items'] = neg_items.tolist()\n",
    "        result_dfs.append(result_df)\n",
    "    return result_dfs, data_df"
   ]
  },
  {
   "cell_type": "code",
   "execution_count": null,
   "metadata": {},
   "outputs": [],
   "source": [
    "leave_df = out_df.groupby('user_id').head(1)\n",
    "data_df = out_df.drop(leave_df.index)\n",
    "\n",
    "[test_df, dev_df], data_df = generate_dev_test(data_df)\n",
    "train_df = pd.concat([leave_df, data_df]).sort_index()\n",
    "\n",
    "len(train_df), len(dev_df), len(test_df)"
   ]
  },
  {
   "cell_type": "code",
   "execution_count": null,
   "metadata": {},
   "outputs": [],
   "source": [
    "train_df.head()"
   ]
  },
  {
   "cell_type": "code",
   "execution_count": null,
   "metadata": {},
   "outputs": [],
   "source": [
    "test_df.head()"
   ]
  },
  {
   "cell_type": "code",
   "execution_count": 17,
   "metadata": {},
   "outputs": [],
   "source": [
    "# save results\n",
    "\n",
    "train_df.to_csv(os.path.join(RAW_PATH, 'train.csv'), sep='\\t', index=False)\n",
    "dev_df.to_csv(os.path.join(RAW_PATH, 'dev.csv'), sep='\\t', index=False)\n",
    "test_df.to_csv(os.path.join(RAW_PATH, 'test.csv'), sep='\\t', index=False)"
   ]
  },
  {
   "cell_type": "markdown",
   "metadata": {},
   "source": [
    "### Item Metadata"
   ]
  },
  {
   "cell_type": "code",
   "execution_count": 18,
   "metadata": {},
   "outputs": [],
   "source": [
    "# level-2 category\n",
    "\n",
    "l2_cate_lst = list()\n",
    "for cate_lst in useful_meta_df['categories']:\n",
    "    l2_cate_lst.append(cate_lst[0][2] if len(cate_lst[0]) > 2 else np.nan)\n",
    "useful_meta_df['l2_category'] = l2_cate_lst  \n",
    "l2_cates = sorted(useful_meta_df['l2_category'].dropna().unique())\n",
    "l2_dict = dict(zip(l2_cates, range(1, len(l2_cates) + 1)))\n",
    "useful_meta_df['l2_category'] = useful_meta_df['l2_category'].apply(lambda x: l2_dict[x] if x == x else 0)"
   ]
  },
  {
   "cell_type": "code",
   "execution_count": null,
   "metadata": {
    "scrolled": true
   },
   "outputs": [],
   "source": [
    "item_meta_data = dict()\n",
    "for idx in range(len(useful_meta_df)):\n",
    "    info = useful_meta_df.iloc[idx]['related']\n",
    "    item_meta_data[idx] = {\n",
    "        'item_id': item2id[useful_meta_df.iloc[idx]['asin']],\n",
    "        'i_category': useful_meta_df.iloc[idx]['l2_category'],\n",
    "        'r_complement': list(map(lambda x: item2id[x], info['also_bought'])) if 'also_bought' in info else [],\n",
    "        'r_substitute': list(map(lambda x: item2id[x], info['also_viewed'])) if 'also_viewed' in info else [],\n",
    "    }\n",
    "\n",
    "item_meta_df = pd.DataFrame.from_dict(item_meta_data, orient='index')\n",
    "item_meta_df = item_meta_df[['item_id', 'i_category', 'r_complement', 'r_substitute']]\n",
    "item_meta_df.head()"
   ]
  },
  {
   "cell_type": "code",
   "execution_count": 20,
   "metadata": {},
   "outputs": [],
   "source": [
    "# save results\n",
    "\n",
    "item_meta_df.to_csv(os.path.join(RAW_PATH, 'item_meta.csv'), sep='\\t', index=False)"
   ]
  }
 ],
 "metadata": {
  "kernelspec": {
   "display_name": "base",
   "language": "python",
   "name": "python3"
  },
  "language_info": {
   "codemirror_mode": {
    "name": "ipython",
    "version": 3
   },
   "file_extension": ".py",
   "mimetype": "text/x-python",
   "name": "python",
   "nbconvert_exporter": "python",
   "pygments_lexer": "ipython3",
   "version": "3.12.3"
  }
 },
 "nbformat": 4,
 "nbformat_minor": 2
}
